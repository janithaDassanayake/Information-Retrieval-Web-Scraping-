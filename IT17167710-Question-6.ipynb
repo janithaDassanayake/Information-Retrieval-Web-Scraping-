{
 "cells": [
  {
   "cell_type": "markdown",
   "metadata": {},
   "source": [
    "# Question 6"
   ]
  },
  {
   "cell_type": "code",
   "execution_count": 1,
   "metadata": {},
   "outputs": [],
   "source": [
    "# Q1\n",
    "import tweepy \n",
    "\n",
    "jani_consumer_key = \"rHGRybON22lqQlArs1PNUwx0q\" \n",
    "jani_consumer_secret = \"Nfh1yhZkm3SIabxwHJLr8LgG7OWMnMMkPgtc7OBgF3Zeme6DDx\" \n",
    "jani_access_token = \"4824788313-4KPMm9bgPUy3AoyPqmbAcw5y4wfsyIBNC1PCZw1\" \n",
    "jani_access_token_secret = \"Y46VTb6odSohG1w85vCieKwdgFEGzud9PXMbbAKPtAsqU\" \n",
    "\n",
    "auth_user = tweepy.OAuthHandler(jani_consumer_key, jani_consumer_secret) \n",
    "\n",
    "auth_user.set_access_token(jani_access_token, jani_access_token_secret) \n",
    "API = tweepy.API(auth_user) \n",
    "\n",
    "\n"
   ]
  },
  {
   "cell_type": "markdown",
   "metadata": {},
   "source": [
    "# a)\tGet the number of followers of a given twitter account."
   ]
  },
  {
   "cell_type": "code",
   "execution_count": 3,
   "metadata": {},
   "outputs": [
    {
     "name": "stdout",
     "output_type": "stream",
     "text": [
      "\n",
      " Type quit if you want to Exit\n",
      "=================================\n",
      "\n",
      "Input the username  : ShraddhaKapoor\n",
      "ShraddhaKapoor has : 13455970 followers\n",
      "\n",
      "---------------------------------\n",
      "Input the username  - iamsrk\n",
      "iamsrk has : 41060494 followers\n",
      "\n",
      "---------------------------------\n",
      "Input the username  - iamjanithD\n",
      "iamjanithD has : 403 followers\n",
      "\n",
      "---------------------------------\n",
      "Input the username  - quit\n"
     ]
    }
   ],
   "source": [
    "def get_number_of_followers(username): \n",
    "    \n",
    "    try:\n",
    "        userAccount = API.get_user(username) \n",
    "\n",
    "        no_of_followers = userAccount.followers_count \n",
    "\n",
    "        print(username+\" has : \" + str(no_of_followers)+\" followers\")\n",
    "    except:\n",
    "        print(username+' User not found...')\n",
    "    \n",
    "    \n",
    "username = ''\n",
    "print()\n",
    "print(' Type quit if you want to Exit')\n",
    "print('=================================')\n",
    "print()\n",
    "username = input(\"Input the username  : \")\n",
    "while username != 'quit':\n",
    "    get_number_of_followers(username)\n",
    "    print()\n",
    "    print('---------------------------------')\n",
    "    username = input(\"Input the username  - \")\n"
   ]
  },
  {
   "cell_type": "markdown",
   "metadata": {},
   "source": [
    "# b)\tGet the number of posts on Twitter liked by a given account."
   ]
  },
  {
   "cell_type": "code",
   "execution_count": 4,
   "metadata": {},
   "outputs": [
    {
     "name": "stdout",
     "output_type": "stream",
     "text": [
      "\n",
      " Type quit if you want to Exit\n",
      "=================================\n",
      "\n",
      "Input the username  : ShraddhaKapoor\n",
      "ShraddhaKapoor has liked for 49 tweets \n",
      "\n",
      "---------------------------------\n",
      "Input the username  - iamjanithD\n",
      "iamjanithD has liked for 1137 tweets \n",
      "\n",
      "---------------------------------\n",
      "Input the username  - iamsrk\n",
      "iamsrk has liked for 32 tweets \n",
      "\n",
      "---------------------------------\n",
      "Input the username  - vxgsqvx\n",
      "vxgsqvx User not found...\n",
      "\n",
      "---------------------------------\n",
      "Input the username  - quit\n"
     ]
    }
   ],
   "source": [
    "# Q2\n",
    "\n",
    "def get_number_of_posts_on_Twitter_liked(username): \n",
    "    \n",
    "    try:\n",
    "        user_account = API.get_user(username) \n",
    "        \n",
    "        num_of_posts_liked  = user_account.favourites_count \n",
    "        \n",
    "        print(username+\" has liked for \" + str(num_of_posts_liked)+\" tweets \") \n",
    "    except:\n",
    "        print(username+' User not found...')\n",
    "    \n",
    "\n",
    "username = ''\n",
    "print()\n",
    "print(' Type quit if you want to Exit')\n",
    "print('=================================')\n",
    "print()\n",
    "username = input(\"Input the username  : \")\n",
    "\n",
    "while username != 'quit':\n",
    "    get_number_of_posts_on_Twitter_liked(username)\n",
    "    print()\n",
    "    print('---------------------------------')\n",
    "    username = input(\"Input the username  - \")\n"
   ]
  },
  {
   "cell_type": "markdown",
   "metadata": {},
   "source": [
    "# c)\tCount number of tweets by a given Twitter account."
   ]
  },
  {
   "cell_type": "code",
   "execution_count": 7,
   "metadata": {},
   "outputs": [
    {
     "name": "stdout",
     "output_type": "stream",
     "text": [
      "\n",
      " Type quit if you want to Exit\n",
      "=================================\n",
      "\n",
      "Input the username  : ShraddhaKapoor\n",
      "ShraddhaKapoor has posted : 5662 tweets\n",
      "\n",
      "---------------------------------\n",
      "Input the username  - iamsrk\n",
      "iamsrk has posted : 58076 tweets\n",
      "\n",
      "---------------------------------\n",
      "Input the username  - iamjanithD\n",
      "iamjanithD has posted : 1327 tweets\n",
      "\n",
      "---------------------------------\n",
      "Input the username  - vahvxxh\n",
      "vahvxxh User not found...\n",
      "\n",
      "---------------------------------\n",
      "Input the username  - quit\n"
     ]
    }
   ],
   "source": [
    "# Q3\n",
    "def get_number_of_posts_on_Twitter_liked(username): \n",
    "    try:\n",
    "        user_account = API.get_user(username) \n",
    "\n",
    "        no_of_tweets = user_account.statuses_count  \n",
    "\n",
    "        print(username+\" has posted : \" + str(no_of_tweets)+\" tweets\") \n",
    "    \n",
    "    except:\n",
    "        print(username+' User not found...')\n",
    "    \n",
    "username = ''\n",
    "print()\n",
    "print(' Type quit if you want to Exit')\n",
    "print('=================================')\n",
    "print()\n",
    "username = input(\"Input the username  : \")\n",
    "\n",
    "while username != 'quit':\n",
    "    get_number_of_posts_on_Twitter_liked(username)\n",
    "    print()\n",
    "    print('---------------------------------')\n",
    "    username = input(\"Input the username  - \")"
   ]
  },
  {
   "cell_type": "markdown",
   "metadata": {},
   "source": [
    "# d)\tScrap number of tweets of a given Twitter account"
   ]
  },
  {
   "cell_type": "code",
   "execution_count": 8,
   "metadata": {},
   "outputs": [
    {
     "name": "stdout",
     "output_type": "stream",
     "text": [
      "\n",
      " Type quit if you want to Exit\n",
      "=================================\n",
      "\n",
      "Input the username  : iamjanithD\n",
      "Input the tweets that you scrape : 4\n",
      "\n",
      "----------------------------------------------\n",
      "Russia becomes first country to approve #COVID19 vaccine. President Vladimir Putin has even said that one of his da… https://t.co/ubBG8PU8JK\n",
      "\n",
      "----------------------------------------------\n",
      "I completed Intro to International Marketing certificate course https://t.co/PdzmLSPLis #Coursera\n",
      "\n",
      "----------------------------------------------\n",
      "RT @salespanel: The data provided by @googleanalytics is unmatched and on a statistical level, it can show you what you need to know. But,…\n",
      "\n",
      "----------------------------------------------\n",
      "completed COVID-19: What You Need to Know (CME Eligible)!  https://t.co/jhEnRTjUNt #Coursera\n",
      "\n",
      "\n",
      "*******************************\n",
      "Input the username  - ShraddhaKapoor\n",
      "Input the tweets that you scrape : 3\n",
      "\n",
      "----------------------------------------------\n",
      "RT @SwachhBharatGov: On the occasion of #WorldOzoneDay, let's do our best to protect our protector from pollution &amp; create a cleaner &amp; gree…\n",
      "\n",
      "----------------------------------------------\n",
      "#Stree is all set to conquer #Japan!🇯🇵 Releasing today, beware!👻\n",
      "\n",
      "#DineshVijan @rajndk @RajkummarRao … https://t.co/V0kxwD7rJO\n",
      "\n",
      "----------------------------------------------\n",
      "Double birthday love💕🎉💜@ashabhosle #MeenaAaji https://t.co/Rne1fvwWDg\n",
      "\n",
      "\n",
      "*******************************\n",
      "Input the username  - quit\n",
      "Input the tweets that you scrape : quit\n"
     ]
    }
   ],
   "source": [
    "\n",
    "def Scrap_tweets (userAccount,tweetCount): \n",
    "    \n",
    "    try:\n",
    "        user_tweets = API.user_timeline(screen_name=userAccount) \n",
    "\n",
    "        tweets_List=[] \n",
    "\n",
    "        tweets = [user_tweet.text for user_tweet in user_tweets]\n",
    "        for single_tweet in tweets: \n",
    "            tweets_List.append(single_tweet) \n",
    "\n",
    "        for tweet in tweets_List[:tweetCount]:\n",
    "            print()\n",
    "            print('----------------------------------------------')\n",
    "            print(tweet)\n",
    "    except:\n",
    "        \n",
    "        print(userAccount+' User not found...')\n",
    "    \n",
    "\n",
    "username = ''\n",
    "tweetCount = ''\n",
    "\n",
    "print()\n",
    "print(' Type quit if you want to Exit')\n",
    "print('=================================')\n",
    "print()\n",
    "username = input(\"Input the username  : \")\n",
    "tweetCount = input(\"Input the tweets that you scrape : \")\n",
    "\n",
    "while username != 'quit':\n",
    "    Scrap_tweets(username,int(tweetCount))\n",
    "    print()\n",
    "    print()\n",
    "    print('*******************************')\n",
    "    username = input(\"Input the username  - \")\n",
    "    tweetCount = input(\"Input the tweets that you scrape : \")\n",
    "    \n"
   ]
  },
  {
   "cell_type": "code",
   "execution_count": null,
   "metadata": {},
   "outputs": [],
   "source": []
  },
  {
   "cell_type": "code",
   "execution_count": null,
   "metadata": {},
   "outputs": [],
   "source": []
  }
 ],
 "metadata": {
  "kernelspec": {
   "display_name": "Python 3",
   "language": "python",
   "name": "python3"
  },
  "language_info": {
   "codemirror_mode": {
    "name": "ipython",
    "version": 3
   },
   "file_extension": ".py",
   "mimetype": "text/x-python",
   "name": "python",
   "nbconvert_exporter": "python",
   "pygments_lexer": "ipython3",
   "version": "3.8.3"
  }
 },
 "nbformat": 4,
 "nbformat_minor": 4
}
